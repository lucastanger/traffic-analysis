{
 "cells": [
  {
   "cell_type": "markdown",
   "metadata": {},
   "source": [
    "This approach uses the first frame as movement reference. So the video doesn't work if there is already movement. Also parked cars who later drive away leave a movement rectangle behind.\n",
    "Reflections in cars are also still marked.\n",
    "Humans are not detected on the sidewalk. -> tweak the parameters"
   ]
  },
  {
   "cell_type": "code",
   "execution_count": 42,
   "metadata": {},
   "outputs": [],
   "source": [
    "import numpy as np\n",
    "import cv2\n",
    "\n",
    "cap = cv2.VideoCapture('20190402_142557.mov')\n",
    "\n",
    "first_frame = None\n",
    "\n",
    "while(cap.isOpened()):\n",
    "    ret, frame = cap.read()\n",
    "\n",
    "    # Grayscale (used for threshold)\n",
    "    gray = cv2.cvtColor(frame,  cv2.COLOR_BGR2GRAY)\n",
    "\n",
    "    # Frame Blurring. Reducing noise\n",
    "    gray = cv2.GaussianBlur(gray, (21, 21), 0)\n",
    "\n",
    "    # Update static frame\n",
    "    if first_frame is None:\n",
    "        first_frame = gray\n",
    "        continue\n",
    "\n",
    "    # Calculate difference between first frame and current frame\n",
    "    diff_frame = cv2.absdiff(first_frame, gray)\n",
    "\n",
    "    # If change in between first frame and current frame is greater than 30 it will show as white\n",
    "    # Could tweak with threshold types (https://opencv-python-tutroals.readthedocs.io/en/latest/py_tutorials/py_imgproc/py_thresholding/py_thresholding.html). Adaptive threshold for different lightning\n",
    "    thresh_frame = cv2.threshold(diff_frame, 30, 255, cv2.THRESH_BINARY)[1]\n",
    "\n",
    "    # Increase area of white\n",
    "    dilated_frame = cv2.dilate(thresh_frame, None, iterations=5)\n",
    "\n",
    "    # Find contours\n",
    "    # Chain approx simple saves memory by only saving the corners\n",
    "    contours, _ = cv2.findContours(dilated_frame, cv2.RETR_EXTERNAL, cv2.CHAIN_APPROX_SIMPLE)\n",
    "    #cv2.drawContours(frame, cnts, -1, (0,255,0), 3)\n",
    "\n",
    "    # Draw rectangles around contours\n",
    "    for contour in contours:\n",
    "        # Calculate the contour area. Skips small countours\n",
    "        if cv2.contourArea(contour) < 3000:\n",
    "            continue\n",
    "\n",
    "        # Calculates center of mass of contour\n",
    "        # Useful for measure of speed with this point\n",
    "        # maybe middle of rectancle is more accurate\n",
    "        M = cv2.moments(contour)\n",
    "        cx = int(M['m10']/M['m00'])\n",
    "        cy = int(M['m01']/M['m00'])\n",
    "        cv2.circle(frame, (cx, cy), radius=3, color=(0, 0, 255), thickness=-1)\n",
    "        \n",
    "        # Returns corners of contour. Doesn't consider the rotation of the object\n",
    "        (x, y, w, h) = cv2.boundingRect(contour)\n",
    "        \n",
    "        # draw rectangle around contour\n",
    "        rectangle = cv2.rectangle(frame, (x, y), (x+w, y+h), (0, 255, 0), 2)\n",
    "        \n",
    "        # Puts text above the rectangle\n",
    "        cv2.putText(rectangle, 'Motion Detected', (x, y-10), cv2.FONT_HERSHEY_SIMPLEX, 0.5, (36, 255, 12), 2)\n",
    "\n",
    "    cv2.imshow('frame', frame)\n",
    "    if cv2.waitKey(1) & 0xFF == ord('q'):\n",
    "        break\n",
    "\n",
    "cap.release()\n",
    "cv2.destroyAllWindows()"
   ]
  },
  {
   "cell_type": "code",
   "execution_count": null,
   "metadata": {},
   "outputs": [],
   "source": [
    "from IPython.display import Video\n",
    "Video('20190401_185721.mov', width=854, height=480, html_attributes='controls autoplay muted')"
   ]
  },
  {
   "cell_type": "code",
   "execution_count": 12,
   "metadata": {},
   "outputs": [
    {
     "data": {
      "text/html": [
       "\n",
       "    <video alt=\"video\" width=\"854\" height=\"480\" autoplay controls muted>\n",
       "        <source src=\"20190401_185721.MOV\" type=\"video/mp4\">\n",
       "    </video>\n"
      ],
      "text/plain": [
       "<IPython.core.display.HTML object>"
      ]
     },
     "execution_count": 12,
     "metadata": {},
     "output_type": "execute_result"
    }
   ],
   "source": [
    "from IPython.display import HTML\n",
    "\n",
    "HTML(\"\"\"\n",
    "    <video alt=\"video\" width=\"854\" height=\"480\" autoplay controls muted>\n",
    "        <source src=\"20190401_185721.MOV\" type=\"video/mp4\">\n",
    "    </video>\n",
    "\"\"\")"
   ]
  },
  {
   "cell_type": "code",
   "execution_count": 36,
   "metadata": {},
   "outputs": [
    {
     "data": {
      "image/jpeg": "[encoded data removed]",
      "text/html": [
       "\n",
       "        <iframe\n",
       "            width=\"854\"\n",
       "            height=\"480\"\n",
       "            src=\"https://www.youtube.com/embed/r1pk0ZpjSI8?controls=1&autoplay=1\"\n",
       "            frameborder=\"0\"\n",
       "            allowfullscreen\n",
       "        ></iframe>\n",
       "        "
      ],
      "text/plain": [
       "<IPython.lib.display.YouTubeVideo at 0x15874ab0b20>"
      ]
     },
     "execution_count": 36,
     "metadata": {},
     "output_type": "execute_result"
    }
   ],
   "source": [
    "from IPython.display import YouTubeVideo\n",
    "YouTubeVideo('r1pk0ZpjSI8', width=854, height=480, controls=1, autoplay=1)"
   ]
  }
 ],
 "metadata": {
  "kernelspec": {
   "display_name": "Python 3",
   "language": "python",
   "name": "python3"
  },
  "language_info": {
   "codemirror_mode": {
    "name": "ipython",
    "version": 3
   },
   "file_extension": ".py",
   "mimetype": "text/x-python",
   "name": "python",
   "nbconvert_exporter": "python",
   "pygments_lexer": "ipython3",
   "version": "3.8.6"
  }
 },
 "nbformat": 4,
 "nbformat_minor": 4
}
